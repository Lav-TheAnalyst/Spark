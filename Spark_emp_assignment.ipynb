{
 "cells": [
  {
   "cell_type": "code",
   "execution_count": 2,
   "id": "5312385f",
   "metadata": {},
   "outputs": [],
   "source": [
    "from pyspark import SparkContext\n",
    "import findspark"
   ]
  },
  {
   "cell_type": "code",
   "execution_count": 3,
   "id": "f48e5d8e",
   "metadata": {},
   "outputs": [
    {
     "data": {
      "text/plain": [
       "'C:\\\\ProgramData\\\\Anaconda3\\\\lib\\\\site-packages\\\\pyspark'"
      ]
     },
     "execution_count": 3,
     "metadata": {},
     "output_type": "execute_result"
    }
   ],
   "source": [
    "findspark.init()\n",
    "findspark.find()"
   ]
  },
  {
   "cell_type": "code",
   "execution_count": 4,
   "id": "71105153",
   "metadata": {},
   "outputs": [],
   "source": [
    "sc=SparkContext(\"local\")\n"
   ]
  },
  {
   "cell_type": "markdown",
   "id": "2d9b5704",
   "metadata": {},
   "source": [
    "# maximum salary per gender "
   ]
  },
  {
   "cell_type": "code",
   "execution_count": 8,
   "id": "6a685f73",
   "metadata": {},
   "outputs": [
    {
     "data": {
      "text/plain": [
       "[('Male', 50000), ('Female', 51000)]"
      ]
     },
     "execution_count": 8,
     "metadata": {},
     "output_type": "execute_result"
    }
   ],
   "source": [
    "lines = sc.textFile(r\"C:\\Users\\RAJPUT\\Desktop\\CDAC\\BigData_Dataset\\EmployeeData.txt\")\n",
    "words=lines.map(lambda x:x.split(\",\")).map(lambda x:(x[3],int(x[4]))).reduceByKey(lambda x,y:max(x,y))\n",
    "words.collect()"
   ]
  },
  {
   "cell_type": "markdown",
   "id": "9a01767c",
   "metadata": {},
   "source": [
    "# Min Salary of male"
   ]
  },
  {
   "cell_type": "code",
   "execution_count": 33,
   "id": "5dc4e551",
   "metadata": {},
   "outputs": [
    {
     "data": {
      "text/plain": [
       "[('Male', 20000)]"
      ]
     },
     "execution_count": 33,
     "metadata": {},
     "output_type": "execute_result"
    }
   ],
   "source": [
    "\n",
    "\n",
    "lines = sc.textFile(r\"C:\\Users\\RAJPUT\\Desktop\\CDAC\\BigData_Dataset\\EmployeeData.txt\")\n",
    "\n",
    "words=lines.map(lambda x:x.split(\",\")).map(lambda x:(x[3],int(x[4]))).filter(lambda x:(x[0]=='Male')).reduceByKey(lambda x,y:min(x,y))\n",
    "words.collect()\n"
   ]
  },
  {
   "cell_type": "markdown",
   "id": "a9a021fc",
   "metadata": {},
   "source": [
    "# employee names for age greater than 30"
   ]
  },
  {
   "cell_type": "code",
   "execution_count": 36,
   "id": "13f4edeb",
   "metadata": {},
   "outputs": [
    {
     "data": {
      "text/plain": [
       "[('gopal', 45), ('manisha', 40), ('khaleel', 34)]"
      ]
     },
     "execution_count": 36,
     "metadata": {},
     "output_type": "execute_result"
    }
   ],
   "source": [
    "words=lines.map(lambda x:x.split(\",\")).map(lambda x:(x[1],int(x[2]))).filter(lambda x:(x[1]>30))\n",
    "words.collect()"
   ]
  },
  {
   "cell_type": "markdown",
   "id": "bc6b2939",
   "metadata": {},
   "source": [
    "# All emplyee names only"
   ]
  },
  {
   "cell_type": "code",
   "execution_count": 37,
   "id": "d091b5b2",
   "metadata": {},
   "outputs": [
    {
     "data": {
      "text/plain": [
       "['gopal',\n",
       " 'manisha',\n",
       " 'khaleel',\n",
       " 'prasanth',\n",
       " 'kiran',\n",
       " 'laxmi',\n",
       " 'bhavya',\n",
       " 'reshma',\n",
       " 'kranthi',\n",
       " 'Satish',\n",
       " 'Krishna',\n",
       " 'Arshad',\n",
       " 'lavanya']"
      ]
     },
     "execution_count": 37,
     "metadata": {},
     "output_type": "execute_result"
    }
   ],
   "source": [
    "words=lines.map(lambda x:x.split(\",\")).map(lambda x:(x[1]))\n",
    "words.collect()"
   ]
  },
  {
   "cell_type": "markdown",
   "id": "fb17cd89",
   "metadata": {},
   "source": [
    "# All employee details with max salary"
   ]
  },
  {
   "cell_type": "code",
   "execution_count": 77,
   "id": "18e6fef1",
   "metadata": {},
   "outputs": [],
   "source": [
    "words=lines.map(lambda x:x.split(\",\")).map(lambda x:(x[0],x[1],x[2],x[3],int(x[4])))\n",
    "maxm=words.map(lambda x:((x[4]))).max()"
   ]
  },
  {
   "cell_type": "code",
   "execution_count": 79,
   "id": "e6826c11",
   "metadata": {},
   "outputs": [
    {
     "data": {
      "text/plain": [
       "[('1202', 'manisha', '40', 'Female', 51000)]"
      ]
     },
     "execution_count": 79,
     "metadata": {},
     "output_type": "execute_result"
    }
   ],
   "source": [
    "words.filter(lambda x:(x[4]==maxm)).collect()"
   ]
  },
  {
   "cell_type": "markdown",
   "id": "d23c1fcf",
   "metadata": {},
   "source": [
    "# employee details with Salary is greater than 30000 and name is Prasanth"
   ]
  },
  {
   "cell_type": "code",
   "execution_count": 87,
   "id": "b68489dc",
   "metadata": {},
   "outputs": [
    {
     "data": {
      "text/plain": [
       "[('1204', 'prasanth', '30', 'Male', 31000)]"
      ]
     },
     "execution_count": 87,
     "metadata": {},
     "output_type": "execute_result"
    }
   ],
   "source": [
    "words=lines.map(lambda x:x.split(\",\")).map(lambda x:(x[0],x[1],x[2],x[3],int(x[4]))).filter(lambda x:(x[1]==\"prasanth\"and x[4]>30000))\n",
    "\n",
    "words.collect()"
   ]
  },
  {
   "cell_type": "markdown",
   "id": "9fbbb8fe",
   "metadata": {},
   "source": [
    "# female employees deatials with age group between 20-40"
   ]
  },
  {
   "cell_type": "code",
   "execution_count": 90,
   "id": "b0a59f3b",
   "metadata": {},
   "outputs": [
    {
     "data": {
      "text/plain": [
       "[('1202', 'manisha', 40, 'Female', 51000),\n",
       " ('1206', 'laxmi', 25, 'Female', 35000)]"
      ]
     },
     "execution_count": 90,
     "metadata": {},
     "output_type": "execute_result"
    }
   ],
   "source": [
    "words=lines.map(lambda x:x.split(\",\")).map(lambda x:(x[0],x[1],int(x[2]),x[3],int(x[4]))).filter(lambda x:(x[2]>20 and x[2]<=40 and x[3]=='Female'))\n",
    "words.collect()"
   ]
  },
  {
   "cell_type": "markdown",
   "id": "56ea0621",
   "metadata": {},
   "source": [
    "# employees whose name starts with k"
   ]
  },
  {
   "cell_type": "code",
   "execution_count": 92,
   "id": "59a9bd83",
   "metadata": {},
   "outputs": [
    {
     "data": {
      "text/plain": [
       "[('1203', 'khaleel', 34, 'Male', 30000),\n",
       " ('1205', 'kiran', 20, 'Male', 40000),\n",
       " ('1209', 'kranthi', 22, 'Male', 22000)]"
      ]
     },
     "execution_count": 92,
     "metadata": {},
     "output_type": "execute_result"
    }
   ],
   "source": [
    "words=lines.map(lambda x:x.split(\",\")).map(lambda x:(x[0],x[1],int(x[2]),x[3],int(x[4]))).filter(lambda x:(x[1][0]==\"k\"))\n",
    "words.collect()"
   ]
  },
  {
   "cell_type": "code",
   "execution_count": null,
   "id": "70fd53ba",
   "metadata": {},
   "outputs": [],
   "source": []
  }
 ],
 "metadata": {
  "kernelspec": {
   "display_name": "Python 3",
   "language": "python",
   "name": "python3"
  },
  "language_info": {
   "codemirror_mode": {
    "name": "ipython",
    "version": 3
   },
   "file_extension": ".py",
   "mimetype": "text/x-python",
   "name": "python",
   "nbconvert_exporter": "python",
   "pygments_lexer": "ipython3",
   "version": "3.8.8"
  }
 },
 "nbformat": 4,
 "nbformat_minor": 5
}
